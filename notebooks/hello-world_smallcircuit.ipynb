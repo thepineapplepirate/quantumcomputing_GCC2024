{
 "cells": [
  {
   "cell_type": "markdown",
   "id": "552b1077",
   "metadata": {},
   "source": [
    "# Hello world\n",
    "\n",
    "This example contains two parts. You will first create a simple quantum program and run it on a quantum system.  Because actual quantum research requires much more robust programs, in the second section ([Scale to large numbers of qubits](#scale-to-large-numbers-of-qubits)), you will scale the simple program up to utility level.  You can also follow along with the Hello World episode of the Coding with Qiskit 1.0 video series.\n"
   ]
  },
  {
   "cell_type": "markdown",
   "id": "7b65f7e0",
   "metadata": {},
   "source": [
    "## Before you begin\n",
    "\n",
    "Follow the [Install and set up](install) instructions if you haven't already, including the steps to [Set up to use IBM Quantum™ Platform](setup-channel#set-up-to-use-ibm-quantum-platform).\n",
    "\n",
    "It is recommended that you use the [Jupyter](https://jupyter.org/install) development environment to interact with quantum computers. Be sure to install the recommended extra visualization support (`'qiskit[visualization]'`). You'll also need the `matplotlib` package for the second part of this example.\n",
    "\n",
    "To learn about quantum computing in general, visit the [Basics of quantum information course](https://learning.quantum.ibm.com/course/basics-of-quantum-information) in IBM Quantum Learning.\n",
    "\n",
    "The four steps to writing a quantum program using Qiskit Patterns are:\n",
    "\n",
    "1.  Map the problem to a quantum-native format.\n",
    "\n",
    "2.  Optimize the circuits and operators.\n",
    "\n",
    "3.  Execute using a quantum primitive function.\n",
    "\n",
    "4.  Analyze the results.\n"
   ]
  },
  {
   "cell_type": "markdown",
   "id": "80471a0a",
   "metadata": {},
   "source": [
    "## Create and run a simple quantum program\n"
   ]
  },
  {
   "cell_type": "markdown",
   "id": "85fe979e",
   "metadata": {
    "raw_mimetype": "text/restructuredtext"
   },
   "source": [
    "### Step 1. Map the problem to a quantum-native format\n",
    "\n",
    "In a quantum program, *quantum circuits* are the native format in which to represent quantum instructions, and *operators* represent the observables to be measured. When creating a circuit, you'll usually create a new [`QuantumCircuit`](/api/qiskit/qiskit.circuit.QuantumCircuit#quantumcircuit-class) object, then add instructions to it in sequence.\n"
   ]
  },
  {
   "cell_type": "markdown",
   "id": "21f7a26c",
   "metadata": {},
   "source": [
    "The following code cell creates a circuit that produces a *Bell state,* which is a state wherein two qubits are fully entangled with each other.\n",
    "\n",
    "<Admonition type=\"note\" title=\"Note: bit ordering\">\n",
    "  The Qiskit SDK uses the LSb 0 bit numbering where the $n^{th}$ digit has value $1 \\ll n$ or $2^n$. For more details, see the [Bit-ordering in the Qiskit SDK](../build/bit-ordering) topic.\n",
    "</Admonition>\n"
   ]
  },
  {
   "cell_type": "code",
   "execution_count": null,
   "id": "930ca3b6",
   "metadata": {
    "tags": []
   },
   "outputs": [],
   "source": [
    "from qiskit import QuantumCircuit\n",
    "from qiskit.quantum_info import SparsePauliOp\n",
    "from qiskit.transpiler.preset_passmanagers import generate_preset_pass_manager\n",
    "from qiskit_ibm_runtime import EstimatorV2 as Estimator\n",
    "\n",
    "# Create a new circuit with two qubits\n",
    "qc = QuantumCircuit(2)\n",
    "\n",
    "# Add a Hadamard gate to qubit 0\n",
    "qc.h(0)\n",
    "\n",
    "# Perform a controlled-X gate on qubit 1, controlled by qubit 0\n",
    "qc.cx(0, 1)\n",
    "\n",
    "# Return a drawing of the circuit using MatPlotLib (\"mpl\"). This is the\n",
    "# last line of the cell, so the drawing appears in the cell output.\n",
    "# Remove the \"mpl\" argument to get a text drawing.\n",
    "qc.draw(\"mpl\")"
   ]
  },
  {
   "cell_type": "markdown",
   "id": "0c957de9",
   "metadata": {
    "raw_mimetype": "text/restructuredtext"
   },
   "source": [
    "See [`QuantumCircuit`](/api/qiskit/qiskit.circuit.QuantumCircuit#quantumcircuit-class) in the documentation for all available operations.\n"
   ]
  },
  {
   "cell_type": "markdown",
   "id": "f3ef4248-7938-44c1-85f1-edc997f0edcd",
   "metadata": {},
   "source": [
    "When creating quantum circuits, you must also consider what type of data you want returned after execution. Qiskit provides two ways to return data: you can obtain a probability distribution for a set of qubits you choose to measure, or you can obtain the expectation value of an observable. Prepare your workload to measure your circuit in one of these two ways with [Qiskit primitives](../run/primitives-get-started) (explained in detail in [Step 3](#step-3-execute-using-the-quantum-primitives)).\n",
    "\n",
    "This example measures expectation values by using the `qiskit.quantum_info` submodule, which is specified by using operators (mathematical objects used to represent an action or process that changes a quantum state). The following code cell creates six two-qubit Pauli operators: `IZ`, `IX`, `ZI`, `XI`, `ZZ`, and `XX`.\n"
   ]
  },
  {
   "cell_type": "code",
   "execution_count": null,
   "id": "c57b261c-b757-4432-beab-61b526c98a41",
   "metadata": {
    "tags": []
   },
   "outputs": [],
   "source": [
    "# Set up six different observables.\n",
    "from qiskit.quantum_info import SparsePauliOp\n",
    "\n",
    "observables_labels = [\"IZ\", \"IX\", \"ZI\", \"XI\", \"ZZ\", \"XX\"]\n",
    "observables = [SparsePauliOp(label) for label in observables_labels]"
   ]
  },
  {
   "cell_type": "markdown",
   "id": "47150779",
   "metadata": {},
   "source": [
    "<Admonition type=\"note\" title=\"Operator Notation\">\n",
    "  Here, something like the `ZZ` operator is a shorthand for the tensor product $Z\\otimes Z$, which means measuring Z on qubit 1 and Z on qubit 0 together, and obtaining information about the correlation between qubit 1 and qubit 0. Expectation values like this are also typically written as $\\langle Z_1 Z_0 \\rangle$.\n",
    "\n",
    "  If the state is entangled, then the measurement of $\\langle Z_1 Z_0 \\rangle$ should be 1.\n",
    "</Admonition>\n"
   ]
  },
  {
   "cell_type": "markdown",
   "id": "83bf9151-3bc9-40d2-8615-31570238b08e",
   "metadata": {},
   "source": [
    "### Step 2. Optimize the circuits and operators\n",
    "\n",
    "When executing circuits on a device, it is important to optimize the set of instructions that the circuit contains and minimize the overall depth (roughly the number of instructions) of the circuit. This ensures that you obtain the best results possible by reducing the effects of error and noise. Additionally, the circuit's instructions must conform to a backend device's [Instruction Set Architecture (ISA)](../transpile/#instruction-set-architecture) and must consider the device's basis gates and qubit connectivity.\n",
    "\n",
    "The following code instantiates a real device to submit a job to and transforms the circuit and observables to match that backend's ISA.\n"
   ]
  },
  {
   "cell_type": "code",
   "execution_count": null,
   "id": "86aad802",
   "metadata": {},
   "outputs": [],
   "source": [
    "from qiskit_ibm_runtime import QiskitRuntimeService\n",
    "\n",
    "# If you did not previously save your credentials, use the following line instead:\n",
    "# service = QiskitRuntimeService(channel=\"ibm_quantum\", token=\"<MY_IBM_QUANTUM_TOKEN>\")\n",
    "service = QiskitRuntimeService()\n",
    "\n",
    "## use below if you don't want to specify a specific hardware backend\n",
    "backend = service.least_busy(simulator=False, operational=True)\n",
    "\n",
    "# Convert to an ISA circuit and layout-mapped observables.\n",
    "pm = generate_preset_pass_manager(backend=backend, optimization_level=1)\n",
    "isa_circuit_hardware = pm.run(qc)\n",
    "\n",
    "isa_circuit_hardware.draw('mpl', idle_wires=False)"
   ]
  },
  {
   "cell_type": "code",
   "execution_count": null,
   "id": "9a901271",
   "metadata": {
    "tags": []
   },
   "outputs": [],
   "source": [
    "# When you run your quantum program on a real device, your workload must wait in a queue before it runs. \n",
    "# To save time, you can instead use the following code to run this small workload on the \n",
    "# [`fake_provider`](../api/qiskit-ibm-runtime/fake_provider) with the Qiskit Runtime local testing mode. \n",
    "# Note that this is only possible for a small circuit. When you scale up in the next section, you will need to use a real device.\n",
    "\n",
    "# Use the following code if you want to run a noise-less (no error) simulator:\n",
    "from qiskit_aer import AerSimulator\n",
    "##backend = AerSimulator()\n",
    "\n",
    "# Use the following code instead if you want to run on a realistic noisy simulator:\n",
    "from qiskit_ibm_runtime.fake_provider import FakeAlmadenV2\n",
    "backend = FakeAlmadenV2()\n",
    "\n",
    "# Convert to an ISA circuit and layout-mapped observables.\n",
    "pm = generate_preset_pass_manager(backend=backend, optimization_level=1)\n",
    "isa_circuit_simulator = pm.run(qc)\n",
    "\n",
    "isa_circuit_simulator.draw('mpl', idle_wires=False)"
   ]
  },
  {
   "cell_type": "markdown",
   "id": "9acac1d4",
   "metadata": {},
   "source": [
    "### Step 3. Execute using the quantum primitives\n",
    "\n",
    "Quantum computers can produce random results, so you usually collect a sample of the outputs by running the circuit many times. You can estimate the value of the observable by using the `Estimator` class. `Estimator` is one of two [primitives](../run/primitives-get-started); the other is `Sampler`, which can be used to get data from a quantum computer.  These objects possess a `run()` method that executes the selection of circuits, observables, and parameters (if applicable), using what's known as a [primitive unified bloc (PUB).](../run/primitives#sampler-v2)\n"
   ]
  },
  {
   "cell_type": "markdown",
   "id": "47479e76",
   "metadata": {
    "tags": []
   },
   "source": [
    "After a job is submitted, you can wait until either the job is completed within your current python instance, or use the `job_id` to retrieve the data at a later time.  (See the [section on retrieving jobs](../run/monitor-job#retrieve-job-results-at-a-later-time) for details.)\n",
    "\n",
    "After the job completes, examine its output through the job's `result()` attribute.\n"
   ]
  },
  {
   "cell_type": "code",
   "execution_count": null,
   "id": "62c4ca44",
   "metadata": {
    "tags": []
   },
   "outputs": [],
   "source": [
    "# Construct the Estimator instance.\n",
    "from qiskit_ibm_runtime import EstimatorV2 as Estimator\n",
    "\n",
    "estimator = Estimator(backend=backend)\n",
    "estimator.options.resilience_level = 1\n",
    "estimator.options.default_shots = 5000\n",
    "\n",
    "mapped_observables = [\n",
    "\n",
    "    observable.apply_layout(isa_circuit_simulator.layout) for observable in observables\n",
    "\n",
    "]\n",
    "\n",
    "#mapped_observables = [\n",
    "\n",
    "#    observable.apply_layout(isa_circuit_hardware.layout) for observable in observables\n",
    "\n",
    "#]\n",
    "\n",
    "# One pub, with one circuit to run against five different observables.\n",
    "job = estimator.run([(isa_circuit_simulator, mapped_observables)])\n",
    "# job = estimator.run([(isa_circuit_hardware, mapped_observables)])\n",
    "\n",
    "# Use the job ID to retrieve your job data later\n",
    "print(f\">>> Job ID: {job.job_id()}\")"
   ]
  },
  {
   "cell_type": "code",
   "execution_count": null,
   "id": "792d2f01",
   "metadata": {
    "tags": []
   },
   "outputs": [],
   "source": [
    "result = job.result()\n",
    "# This is the result of the entire submission.  You submitted one Pub,\n",
    "# so this contains one inner result (and some metadata of its own).\n",
    "job_result = job.result()\n",
    "\n",
    "# This is the result from our single pub, which had five observables,\n",
    "# so contains information on all five.\n",
    "pub_result = job.result()[0]"
   ]
  },
  {
   "cell_type": "code",
   "execution_count": null,
   "id": "f7339475",
   "metadata": {
    "tags": [
     "remove-cell"
    ]
   },
   "outputs": [],
   "source": [
    "# Check there are six observables.\n",
    "# If not, edit the comments in the previous cell and update this test.\n",
    "assert len(pub_result.data.evs) == 6"
   ]
  },
  {
   "cell_type": "markdown",
   "id": "d200d1f8",
   "metadata": {},
   "source": [
    "### Step 4. Analyze the results\n",
    "\n",
    "The analyze step is typically where you might postprocess your results using, for example, measurement error mitigation or zero noise extrapolation (ZNE). You might feed these results into another workflow for further analysis or prepare a plot of the key values and data. In general, this step is specific to your problem.  For this example, plot each of the expectation values that were measured for our circuit.\n",
    "\n",
    "The expectation values and standard deviations for the observables you specified to Estimator are accessed through the job result's `PubResult.data.evs` and `PubResult.data.stds` attributes. To obtain the results from Sampler, use the `PubResult.data.meas.get_counts()` function, which will return a `dict` of measurements in the form of bitstrings as keys and counts as their corresponding values. For more information, see [Get started with Sampler.](/run/primitives-get-started#get-started-with-sampler)\n"
   ]
  },
  {
   "cell_type": "code",
   "execution_count": null,
   "id": "87143fcc",
   "metadata": {
    "tags": []
   },
   "outputs": [],
   "source": [
    "# Plot the result\n",
    "\n",
    "from matplotlib import pyplot as plt\n",
    "\n",
    "values = pub_result.data.evs\n",
    "\n",
    "errors = pub_result.data.stds\n",
    "\n",
    "# plotting graph\n",
    "plt.plot(observables_labels, values, '-o')\n",
    "plt.xlabel('Observables')\n",
    "plt.ylabel('Values')\n",
    "plt.show()"
   ]
  },
  {
   "cell_type": "markdown",
   "id": "e6a9ba84",
   "metadata": {},
   "source": [
    "Notice that for qubits 0 and 1, the independent expectation values of both X and Z are 0, while the correlations (`XX` and `ZZ`) are 1. This is a hallmark of quantum entanglement.\n"
   ]
  },
  {
   "cell_type": "code",
   "execution_count": null,
   "id": "b8d8e086",
   "metadata": {
    "tags": [
     "remove-cell"
    ]
   },
   "outputs": [],
   "source": [
    "# Make sure the results follow the claim the the previous markdown cell.\n",
    "# This can happen when the device occasionally behaves strangely. If this cell\n",
    "# fails, you may just need to run the notebook again.\n",
    "\n",
    "_results = { obs: val for obs, val in zip(observables_labels, values) }\n",
    "for _label in [\"IZ\", \"IX\", \"ZI\", \"XI\"]:\n",
    "    assert abs(_results[_label]) < 0.2\n",
    "for _label in [\"XX\", \"ZZ\"]:\n",
    "    assert _results[_label] >= 0.7"
   ]
  },
  {
   "cell_type": "markdown",
   "id": "e7c24c81",
   "metadata": {},
   "source": [
    "## Next steps\n",
    "\n",
    "<Admonition type=\"tip\" title=\"Recommendations\">\n",
    "  *   Learn how to [build circuits](../build/) in more detail.\n",
    "\n",
    "  *   Try one of the [workflow example tutorials.](https://learning.quantum.ibm.com/catalog/tutorials?category=workflow-example)\n",
    "</Admonition>\n"
   ]
  }
 ],
 "metadata": {
  "celltoolbar": "Raw Cell Format",
  "description": "Get started using Qiskit with IBM Quantum hardware in this Hello World example",
  "kernelspec": {
   "display_name": "Python 3 (ipykernel)",
   "language": "python",
   "name": "python3"
  },
  "language_info": {
   "codemirror_mode": {
    "name": "ipython",
    "version": 3
   },
   "file_extension": ".py",
   "mimetype": "text/x-python",
   "name": "python",
   "nbconvert_exporter": "python",
   "pygments_lexer": "ipython3",
   "version": "3.12.3"
  },
  "title": "Hello world",
  "widgets": {
   "application/vnd.jupyter.widget-state+json": {
    "state": {},
    "version_major": 2,
    "version_minor": 0
   }
  }
 },
 "nbformat": 4,
 "nbformat_minor": 5
}
