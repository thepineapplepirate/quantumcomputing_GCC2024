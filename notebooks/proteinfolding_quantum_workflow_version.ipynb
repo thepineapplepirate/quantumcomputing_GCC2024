{
 "cells": [
  {
   "cell_type": "code",
   "execution_count": null,
   "metadata": {},
   "outputs": [],
   "source": [
    "%load_ext autoreload\n",
    "%autoreload 2"
   ]
  },
  {
   "cell_type": "code",
   "execution_count": null,
   "metadata": {},
   "outputs": [],
   "source": [
    "!git clone https://github.com/thepineapplepirate/quantumcomputing_GCC2024.git\n",
    "!cp -r quantumcomputing_GCC2024/qufold/ ."
   ]
  },
  {
   "cell_type": "code",
   "execution_count": null,
   "metadata": {
    "tags": []
   },
   "outputs": [],
   "source": [
    "import sys\n",
    "\n",
    "sys.path.append(\"\")\n",
    "\n",
    "from qiskit.circuit.library import RealAmplitudes, EfficientSU2\n",
    "from qiskit_algorithms import VQE, SamplingVQE\n",
    "from qiskit_algorithms.optimizers import COBYLA, SLSQP, L_BFGS_B, SPSA\n",
    "# from qiskit.primitives import Sampler as LocalSampler\n",
    "from qiskit_aer import AerSimulator\n",
    "from qiskit_aer.primitives import Sampler, Estimator\n",
    "import matplotlib.pyplot as plt\n",
    "import numpy as np\n",
    "from qufold import (\n",
    "    MiyazawaJerniganInteraction,\n",
    "    Peptide,\n",
    "    ProteinFoldingProblem,\n",
    "    PenaltyParameters,\n",
    ")\n",
    "from qiskit.quantum_info import SparsePauliOp"
   ]
  },
  {
   "cell_type": "code",
   "execution_count": null,
   "metadata": {
    "tags": []
   },
   "outputs": [],
   "source": [
    "def build_pf(main_seq: str):\n",
    "    \"\"\"Builds the protein folding problem for the given sequence.\"\"\"\n",
    "    # Define the interaction\n",
    "    side_chains = [\"\"] * len(main_seq)\n",
    "\n",
    "    mj_interaction = MiyazawaJerniganInteraction()\n",
    "\n",
    "    penalty_back = 10\n",
    "    penalty_chiral = 10\n",
    "    penalty_1 = 10\n",
    "\n",
    "    penalty_terms = PenaltyParameters(penalty_chiral, penalty_back, penalty_1)\n",
    "\n",
    "    peptide = Peptide(main_seq, side_chains)\n",
    "\n",
    "    protein_folding_problem = ProteinFoldingProblem(peptide, mj_interaction, penalty_terms)\n",
    "\n",
    "    return protein_folding_problem"
   ]
  },
  {
   "cell_type": "code",
   "execution_count": null,
   "metadata": {},
   "outputs": [],
   "source": [
    "# Here we define the primary amino acid sequence\n",
    "# the following lines automate the retrieval of the primary amino acid sequence\n",
    "# from the Galaxy inputs, either pasted in or from a FASTA file in your history\n",
    "main_chains = []\n",
    "for galaxy_input in GALAXY_INPUTS:\n",
    "    if isinstance(GALAXY_INPUTS[galaxy_input], str):\n",
    "        main_chains.append(GALAXY_INPUTS[galaxy_input])    \n",
    "    else:\n",
    "        for dataset in GALAXY_INPUTS[galaxy_input]:\n",
    "            protein_sequence = dataset['path']\n",
    "            with open(protein_sequence) as inputfile:\n",
    "                main_chains.append(inputfile.readlines()[1].strip())\n",
    "\n",
    "main_chain = main_chains[0]\n",
    "print(main_chain)\n",
    "side_chains = [\"\"] * len(main_chain)"
   ]
  },
  {
   "cell_type": "code",
   "execution_count": null,
   "metadata": {
    "tags": []
   },
   "outputs": [],
   "source": [
    "pf = build_pf(main_chain) #creates the PF problem instance\n",
    "qubit_op = pf.qubit_op() #creates the problem Hamiltonian"
   ]
  },
  {
   "cell_type": "code",
   "execution_count": null,
   "metadata": {
    "tags": []
   },
   "outputs": [],
   "source": [
    "aer_backend_options = {\"device\": \"CPU\"}\n",
    "estimator = Estimator(backend_options=aer_backend_options)\n",
    "sampler = Sampler(backend_options=aer_backend_options)\n",
    "\n",
    "def run_vqe(qubit_op):\n",
    "    # set classical optimizer\n",
    "    optimizer = COBYLA(maxiter=150)\n",
    "\n",
    "    # set variational ansatz\n",
    "    ansatz = RealAmplitudes(reps=1)\n",
    "\n",
    "    counts = []\n",
    "    values = []\n",
    "\n",
    "    def store_intermediate_result(eval_count, parameters, mean, std):\n",
    "        counts.append(eval_count)\n",
    "        values.append(mean)\n",
    "\n",
    "    vqe = SamplingVQE(\n",
    "        sampler,\n",
    "        ansatz=ansatz,\n",
    "        optimizer=optimizer,\n",
    "        callback=store_intermediate_result,\n",
    "    )\n",
    "\n",
    "    raw_result = vqe.compute_minimum_eigenvalue(qubit_op)\n",
    "\n",
    "    return raw_result, counts, values"
   ]
  },
  {
   "cell_type": "code",
   "execution_count": null,
   "metadata": {
    "tags": []
   },
   "outputs": [],
   "source": [
    "raw_result, counts, values = run_vqe(qubit_op)"
   ]
  },
  {
   "cell_type": "code",
   "execution_count": null,
   "metadata": {
    "tags": []
   },
   "outputs": [],
   "source": [
    "fig = plt.figure()\n",
    "\n",
    "plt.plot(counts, values)\n",
    "plt.ylabel(\"Conformational Energy\")\n",
    "plt.xlabel(\"VQE Iterations\")\n",
    "plt.show()"
   ]
  },
  {
   "cell_type": "code",
   "execution_count": null,
   "metadata": {
    "tags": []
   },
   "outputs": [],
   "source": [
    "result = pf.interpret_new(raw_result)"
   ]
  },
  {
   "cell_type": "code",
   "execution_count": null,
   "metadata": {
    "tags": []
   },
   "outputs": [],
   "source": [
    "print(\n",
    "    \"The bitstring representing the shape of the protein during optimization is: \",\n",
    "    result.turn_sequence,\n",
    ")\n",
    "print(\"The expanded expression is:\", result.get_result_binary_vector())\n",
    "\n",
    "##\n",
    "\n",
    "print(f\"The folded protein's main sequence of turns is: {result.protein_shape_decoder.main_turns}\")\n",
    "print(f\"and the side turn sequences are: {result.protein_shape_decoder.side_turns}\")\n",
    "\n",
    "fig = result.get_figure(title=\"3dcrd\", ticks=False, grid=True)\n",
    "fig.get_axes()[0].view_init(10, 70)"
   ]
  },
  {
   "cell_type": "code",
   "execution_count": null,
   "metadata": {},
   "outputs": [],
   "source": [
    "result.save_xyz_file(replace=True)\n",
    "!mv *.xyz outputs/collection/\n",
    "put(main_chain + \".xyz\")"
   ]
  }
 ],
 "metadata": {
  "kernelspec": {
   "display_name": "Python 3 (ipykernel)",
   "language": "python",
   "name": "python3"
  },
  "language_info": {
   "codemirror_mode": {
    "name": "ipython",
    "version": 3
   },
   "file_extension": ".py",
   "mimetype": "text/x-python",
   "name": "python",
   "nbconvert_exporter": "python",
   "pygments_lexer": "ipython3",
   "version": "3.9.7"
  }
 },
 "nbformat": 4,
 "nbformat_minor": 4
}
