{
 "cells": [
  {
   "cell_type": "code",
   "execution_count": null,
   "metadata": {},
   "outputs": [],
   "source": [
    "# Autoload modules\n",
    "%load_ext autoreload\n",
    "%autoreload 2"
   ]
  },
  {
   "cell_type": "code",
   "execution_count": null,
   "metadata": {},
   "outputs": [],
   "source": [
    "import sys\n",
    "\n",
    "sys.path.append(\"../\")\n",
    "\n",
    "from qiskit.circuit.library import RealAmplitudes, EfficientSU2\n",
    "from qiskit_algorithms.optimizers import COBYLA\n",
    "from qiskit_algorithms.minimum_eigensolvers import SamplingVQE\n",
    "from qiskit_ibm_runtime import Sampler\n",
    "from qiskit.primitives import Sampler as LocalSampler\n",
    "import matplotlib.pyplot as plt\n",
    "import numpy as np\n",
    "from qufold import (\n",
    "    MiyazawaJerniganInteraction,\n",
    "    Peptide,\n",
    "    ProteinFoldingProblem,\n",
    "    PenaltyParameters,\n",
    ")\n",
    "from qiskit.quantum_info import SparsePauliOp\n"
   ]
  },
  {
   "cell_type": "code",
   "execution_count": null,
   "metadata": {},
   "outputs": [],
   "source": [
    "from qiskit.transpiler.preset_passmanagers import generate_preset_pass_manager\n",
    "from qiskit_ibm_runtime import QiskitRuntimeService\n",
    " \n",
    "service = QiskitRuntimeService()\n",
    "backend = service.least_busy(simulator=False, operational=True)\n",
    "# backend = service.backend(\"ibm_cleveland\")\n",
    "\n",
    "\n",
    "pm= generate_preset_pass_manager(optimization_level=3, backend=backend)"
   ]
  },
  {
   "cell_type": "code",
   "execution_count": null,
   "metadata": {},
   "outputs": [],
   "source": [
    "def build_pf(main_seq: str):\n",
    "    \"\"\"Builds the protein folding problem for the given sequence.\"\"\"\n",
    "    # Define the interaction\n",
    "    side_chains = [\"\"] * len(main_seq)\n",
    "\n",
    "    mj_interaction = MiyazawaJerniganInteraction()\n",
    "\n",
    "    penalty_back = 10\n",
    "    penalty_chiral = 10\n",
    "    penalty_1 = 10\n",
    "\n",
    "    penalty_terms = PenaltyParameters(penalty_chiral, penalty_back, penalty_1)\n",
    "\n",
    "    peptide = Peptide(main_seq, side_chains)\n",
    "\n",
    "    protein_folding_problem = ProteinFoldingProblem(peptide, mj_interaction, penalty_terms)\n",
    "\n",
    "    return protein_folding_problem"
   ]
  },
  {
   "cell_type": "code",
   "execution_count": null,
   "metadata": {},
   "outputs": [],
   "source": [
    "main_chain = \"GSNQNNF\" # protein primary amino acid sequence\n",
    "pf = build_pf(main_chain) #creates the PF problem instance"
   ]
  },
  {
   "cell_type": "code",
   "execution_count": null,
   "metadata": {},
   "outputs": [],
   "source": [
    "qubit_op = pf.qubit_op() #creates the problem Hamiltonian"
   ]
  },
  {
   "cell_type": "code",
   "execution_count": null,
   "metadata": {},
   "outputs": [],
   "source": [
    "from qiskit_ibm_runtime import Session, Options, QiskitRuntimeService\n",
    "\n",
    "\n",
    "options = Options(\n",
    "    execution={\"shots\": 5000},\n",
    "    resilience_level=0,\n",
    "    transpilation={\"skip_transpilation\": False},\n",
    "    optimization_level=3,\n",
    "    # environment={\"job_tags\": [f\"batch_{i}\"]},\n",
    ")\n",
    "\n",
    "def run_vqe(qubit_op):\n",
    "    # set classical optimizer\n",
    "    optimizer = COBYLA(maxiter=50)\n",
    "\n",
    "    # set variational ansatz\n",
    "    ansatz = EfficientSU2(num_qubits=qubit_op.num_qubits,reps=1)\n",
    "    ansatz_t = pm.run(ansatz)\n",
    "    print(ansatz_t.num_qubits)\n",
    "    qubit_op_t = qubit_op.apply_layout(ansatz_t.layout)\n",
    "    print(qubit_op_t)\n",
    "    counts = []\n",
    "    values = []\n",
    "\n",
    "    def store_intermediate_result(eval_count, parameters, mean, std):\n",
    "        counts.append(eval_count)\n",
    "        values.append(mean)\n",
    "    with Session(backend=backend):\n",
    "        vqe = SamplingVQE(\n",
    "            Sampler(options=options),\n",
    "            ansatz=ansatz_t,\n",
    "            optimizer=optimizer,\n",
    "            aggregation=0.1,\n",
    "            callback=store_intermediate_result)\n",
    "    \n",
    "        raw_result = vqe.compute_minimum_eigenvalue(qubit_op_t)\n",
    "\n",
    "    return raw_result, counts, values"
   ]
  },
  {
   "cell_type": "code",
   "execution_count": null,
   "metadata": {},
   "outputs": [],
   "source": [
    "raw_result, counts, values = run_vqe(qubit_op)"
   ]
  },
  {
   "cell_type": "code",
   "execution_count": null,
   "metadata": {},
   "outputs": [],
   "source": [
    "fig = plt.figure()\n",
    "\n",
    "plt.plot(counts, values)\n",
    "plt.ylabel(\"Conformational Energy\")\n",
    "plt.xlabel(\"VQE Iterations\")"
   ]
  },
  {
   "cell_type": "code",
   "execution_count": null,
   "metadata": {},
   "outputs": [],
   "source": [
    "result = pf.interpret_new(raw_result=raw_result)\n",
    "print(\n",
    "    \"The bitstring representing the shape of the protein during optimization is: \",\n",
    "    result.turn_sequence,\n",
    ")\n",
    "print(\"The expanded expression is:\", result.get_result_binary_vector())\n",
    "\n",
    "##\n",
    "\n",
    "print(f\"The folded protein's main sequence of turns is: {result.protein_shape_decoder.main_turns}\")\n",
    "print(f\"and the side turn sequences are: {result.protein_shape_decoder.side_turns}\")\n",
    "\n",
    "fig = result.get_figure(title=\"3dcrd\", ticks=False, grid=True)\n",
    "fig.get_axes()[0].view_init(10, 70)"
   ]
  },
  {
   "cell_type": "code",
   "execution_count": null,
   "metadata": {},
   "outputs": [],
   "source": [
    "result.save_xyz_file(replace=True)\n",
    "put(main_chain + \".xyz\")"
   ]
  }
 ],
 "metadata": {
  "kernelspec": {
   "display_name": "test_env",
   "language": "python",
   "name": "python3"
  },
  "language_info": {
   "codemirror_mode": {
    "name": "ipython",
    "version": 3
   },
   "file_extension": ".py",
   "mimetype": "text/x-python",
   "name": "python",
   "nbconvert_exporter": "python",
   "pygments_lexer": "ipython3",
   "version": "3.1.undefined"
  }
 },
 "nbformat": 4,
 "nbformat_minor": 2
}
